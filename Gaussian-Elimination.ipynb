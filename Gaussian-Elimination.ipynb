{
 "cells": [
  {
   "cell_type": "code",
   "execution_count": 26,
   "id": "2c75e20c-b1cd-4106-9a47-30f1d049ba27",
   "metadata": {},
   "outputs": [],
   "source": [
    "# Gaussian Elimination"
   ]
  },
  {
   "cell_type": "code",
   "execution_count": 27,
   "id": "02b56ec0-1337-4d28-91ea-085c2ba50f44",
   "metadata": {},
   "outputs": [],
   "source": [
    "# Gaussian Elimination is like a step-by-step method to solve a system of linear equations. It's kind of like simplifying a puzzle by getting rid of one piece at a time until you find the solution.\n",
    "\n",
    "# Imagine you have a few equations with variables (like x, y, z), and you want to find the values of those variables that make all the equations true at the same time. Gaussian Elimination helps you turn these equations into a simpler form, like a ladder, where the bottom equation has only numbers and the top ones have fewer variables.\n",
    "\n",
    "# You start by picking an equation and changing it so that one variable has a coefficient of 1. Then, you use that equation to get rid of the same variable in the other equations. You keep doing this for all variables until you're left with a set of equations that are easy to solve. And voila! You've solved the system of equations and found the values of the variables.\n",
    "\n",
    "# It's a bit like breaking down a big problem into smaller, manageable steps to find the answer."
   ]
  },
  {
   "cell_type": "code",
   "execution_count": 28,
   "id": "0cf4e04a-e611-44e1-a126-fcf42157384b",
   "metadata": {},
   "outputs": [
    {
     "name": "stdout",
     "output_type": "stream",
     "text": [
      "Solutions: [ 2.  3. -1.]\n"
     ]
    }
   ],
   "source": [
    "import numpy as np\n",
    "\n",
    "# Coefficient matrix\n",
    "A = np.array([[2.0, 1.0, -1.0],\n",
    "              [-3.0, -1.0, 2.0],\n",
    "              [-2.0, 1.0, 2.0]])\n",
    "\n",
    "# Constants column\n",
    "b = np.array([8.0, -11.0, -3.0])\n",
    "\n",
    "# Augmented matrix [A | b]\n",
    "augmented_matrix = np.column_stack((A, b))\n",
    "\n",
    "# Perform Gaussian Elimination\n",
    "num_rows, num_cols = augmented_matrix.shape\n",
    "for col in range(num_cols - 1):\n",
    "    for row in range(col + 1, num_rows):\n",
    "        factor = augmented_matrix[row, col] / augmented_matrix[col, col]\n",
    "        augmented_matrix[row, col:] -= factor * augmented_matrix[col, col:]\n",
    "\n",
    "# Back-substitution to find solutions\n",
    "solutions = np.zeros(num_cols - 1)\n",
    "for row in range(num_rows - 1, -1, -1):\n",
    "    solutions[row] = (augmented_matrix[row, -1] - np.dot(augmented_matrix[row, row+1:num_cols-1], solutions[row+1:])) / augmented_matrix[row, row]\n",
    "\n",
    "print(\"Solutions:\", solutions)"
   ]
  },
  {
   "cell_type": "code",
   "execution_count": 29,
   "id": "4565141e-1579-442a-bd73-56b786bf0cd8",
   "metadata": {},
   "outputs": [],
   "source": [
    "# In this example, we start by defining the coefficient matrix `A` and the constants column `b`. We create an augmented matrix by combining `A` and `b`. Then, we perform Gaussian Elimination by applying row operations to transform the augmented matrix into an upper triangular form.\n",
    "\n",
    "# After Gaussian Elimination, we use back-substitution to find the solutions for the variables. The solutions are printed as the final result."
   ]
  },
  {
   "cell_type": "code",
   "execution_count": 30,
   "id": "faeda999-e39e-48ce-8e19-a0fc0b4f5c10",
   "metadata": {},
   "outputs": [],
   "source": [
    "# Inverse Matrix:"
   ]
  },
  {
   "cell_type": "code",
   "execution_count": 31,
   "id": "8413a489-6c01-47d2-9d4a-3265c00ef949",
   "metadata": {},
   "outputs": [],
   "source": [
    "# An inverse matrix is like a \"counterpart\" matrix that, when multiplied with another matrix, gives you the identity matrix. The identity matrix is like the \"do nothing\" matrix, similar to the number 1 in multiplication. If you have a matrix A and you can find its inverse matrix A^-1, then A * A^-1 = I (identity matrix).\n",
    "\n",
    "# Inverse matrices are useful for solving equations and transforming matrices back to their original forms after certain operations."
   ]
  },
  {
   "cell_type": "code",
   "execution_count": 32,
   "id": "f4769d5f-018e-43fd-8557-fb9b5658486b",
   "metadata": {},
   "outputs": [],
   "source": [
    "# Here's a very simple Python example demonstrating Gaussian Elimination and finding the inverse matrix using NumPy:"
   ]
  },
  {
   "cell_type": "code",
   "execution_count": 33,
   "id": "2d409061-2951-4e74-9ee8-01ed30cfb681",
   "metadata": {},
   "outputs": [
    {
     "name": "stdout",
     "output_type": "stream",
     "text": [
      "Solution using Gaussian Elimination: [2.6 2.8]\n",
      "Inverse matrix: [[ 0.6 -0.2]\n",
      " [-0.2  0.4]]\n"
     ]
    }
   ],
   "source": [
    "import numpy as np\n",
    "\n",
    "# Coefficient matrix\n",
    "A = np.array([[2, 1],\n",
    "              [1, 3]])\n",
    "\n",
    "# Constants column\n",
    "b = np.array([8, 11])\n",
    "\n",
    "# Solve using Gaussian Elimination\n",
    "solution = np.linalg.solve(A, b)\n",
    "print(\"Solution using Gaussian Elimination:\", solution)\n",
    "\n",
    "# Find the inverse matrix\n",
    "A_inverse = np.linalg.inv(A)\n",
    "print(\"Inverse matrix:\", A_inverse)"
   ]
  },
  {
   "cell_type": "code",
   "execution_count": 34,
   "id": "42f85c98-5ed3-45f1-8a5e-052eb817a710",
   "metadata": {},
   "outputs": [],
   "source": [
    "# In this example, we have a 2x2 coefficient matrix `A` and a constants column `b`. We use `np.linalg.solve()` to find the solution using Gaussian Elimination. Then, we use `np.linalg.inv()` to find the inverse matrix of `A`. Keep in mind that not all matrices have inverses, so be cautious when using this technique."
   ]
  },
  {
   "cell_type": "code",
   "execution_count": 35,
   "id": "c5240760-97c0-49ee-9931-396d9035374b",
   "metadata": {},
   "outputs": [],
   "source": [
    "# The following is another example:"
   ]
  },
  {
   "cell_type": "code",
   "execution_count": 36,
   "id": "07f6c296-c028-40f4-b400-4d1e60367ccd",
   "metadata": {},
   "outputs": [
    {
     "data": {
      "text/plain": [
       "array([[1, 2],\n",
       "       [3, 4]])"
      ]
     },
     "execution_count": 36,
     "metadata": {},
     "output_type": "execute_result"
    }
   ],
   "source": [
    "A = np.array([[1, 2],\n",
    "              [3, 4]])\n",
    "A"
   ]
  },
  {
   "cell_type": "code",
   "execution_count": 37,
   "id": "11b72463-908e-4ba3-98ed-01b2efe1e068",
   "metadata": {},
   "outputs": [
    {
     "data": {
      "text/plain": [
       "array([[-2. ,  1. ],\n",
       "       [ 1.5, -0.5]])"
      ]
     },
     "execution_count": 37,
     "metadata": {},
     "output_type": "execute_result"
    }
   ],
   "source": [
    "Ainv = np.linalg.inv(A)\n",
    "Ainv"
   ]
  },
  {
   "cell_type": "code",
   "execution_count": 38,
   "id": "32cb2c89-eece-49cf-a3e1-3fa3238507e0",
   "metadata": {},
   "outputs": [
    {
     "data": {
      "text/plain": [
       "array([ 5, 11])"
      ]
     },
     "execution_count": 38,
     "metadata": {},
     "output_type": "execute_result"
    }
   ],
   "source": [
    "b = np.array([5, 11])\n",
    "b"
   ]
  },
  {
   "cell_type": "code",
   "execution_count": 39,
   "id": "cf4b63aa-cca2-4c7b-993d-ca93d6dbcd3c",
   "metadata": {},
   "outputs": [
    {
     "data": {
      "text/plain": [
       "array([1., 2.])"
      ]
     },
     "execution_count": 39,
     "metadata": {},
     "output_type": "execute_result"
    }
   ],
   "source": [
    "x = np.dot(Ainv, b)\n",
    "x"
   ]
  },
  {
   "cell_type": "code",
   "execution_count": 40,
   "id": "33926f01-ecf2-42c9-8c35-d4a881a0a8d3",
   "metadata": {},
   "outputs": [],
   "source": [
    "# Check result"
   ]
  },
  {
   "cell_type": "code",
   "execution_count": 41,
   "id": "10146b11-3e16-48f2-b00f-874e5585cb53",
   "metadata": {},
   "outputs": [
    {
     "data": {
      "text/plain": [
       "array([ 5., 11.])"
      ]
     },
     "execution_count": 41,
     "metadata": {},
     "output_type": "execute_result"
    }
   ],
   "source": [
    "np.dot(A, x)"
   ]
  },
  {
   "cell_type": "code",
   "execution_count": 42,
   "id": "8a7dc0b8-8548-4df2-b05e-df39f78d3d2e",
   "metadata": {},
   "outputs": [],
   "source": [
    "# Inverse and Determinant:"
   ]
  },
  {
   "cell_type": "code",
   "execution_count": 43,
   "id": "faf25947-6477-4e3a-bdb7-707e8657ab4a",
   "metadata": {},
   "outputs": [],
   "source": [
    "# Inverse:\n",
    "# The inverse of a matrix is like its \"undo\" button. When you multiply a matrix by its inverse, you get the identity matrix, which is like the number 1 for matrices. It's used to \"reverse\" operations done with the matrix. Imagine you've applied transformations to your data using a matrix, and you want to get back to the original data. The inverse matrix helps you do that.\n",
    "\n",
    "# Determinant:\n",
    "# The determinant of a matrix is like a special number that tells you about the \"scaling factor\" of the matrix. It's often used to understand how much an area or volume changes when you transform it using the matrix. A determinant of 0 means the matrix doesn't change the area or volume at all, like squishing everything down to a line or a point."
   ]
  },
  {
   "cell_type": "code",
   "execution_count": 44,
   "id": "c3287f85-33a4-4d72-82a8-f1f77ddef0d2",
   "metadata": {},
   "outputs": [
    {
     "name": "stdout",
     "output_type": "stream",
     "text": [
      "Determinant of the matrix: 5.000000000000001\n",
      "Inverse matrix:\n",
      "[[ 0.6 -0.2]\n",
      " [-0.2  0.4]]\n"
     ]
    }
   ],
   "source": [
    "import numpy as np\n",
    "\n",
    "# Example matrix\n",
    "A = np.array([[2, 1],\n",
    "              [1, 3]])\n",
    "\n",
    "# Calculate the determinant\n",
    "determinant = np.linalg.det(A)\n",
    "print(\"Determinant of the matrix:\", determinant)\n",
    "\n",
    "# Calculate the inverse matrix\n",
    "A_inverse = np.linalg.inv(A)\n",
    "print(\"Inverse matrix:\")\n",
    "print(A_inverse)"
   ]
  },
  {
   "cell_type": "code",
   "execution_count": 45,
   "id": "97f4c85e-d948-4d7b-9eca-67e29757868d",
   "metadata": {},
   "outputs": [],
   "source": [
    "# In this example, we have a 2x2 matrix `A`. We use `np.linalg.det()` to calculate its determinant and `np.linalg.inv()` to calculate the inverse matrix. Please note that not all matrices have inverses, and the determinant can help determine if a matrix has one."
   ]
  },
  {
   "cell_type": "code",
   "execution_count": 46,
   "id": "af68bef7-69ee-40af-b275-10ee4db358b0",
   "metadata": {},
   "outputs": [],
   "source": [
    "# The following is another example:"
   ]
  },
  {
   "cell_type": "code",
   "execution_count": 50,
   "id": "a3f71c89-8ef8-4423-b296-8b58460a149d",
   "metadata": {},
   "outputs": [
    {
     "data": {
      "text/plain": [
       "array([[1, 2],\n",
       "       [3, 4]])"
      ]
     },
     "execution_count": 50,
     "metadata": {},
     "output_type": "execute_result"
    }
   ],
   "source": [
    "A = np.array([[1, 2],\n",
    "              [3, 4]])\n",
    "A"
   ]
  },
  {
   "cell_type": "code",
   "execution_count": 51,
   "id": "cf877fb4-6af6-499b-b627-facbb95dd981",
   "metadata": {},
   "outputs": [
    {
     "data": {
      "text/plain": [
       "-2.0000000000000004"
      ]
     },
     "execution_count": 51,
     "metadata": {},
     "output_type": "execute_result"
    }
   ],
   "source": [
    "det = np.linalg.det(A)\n",
    "det"
   ]
  },
  {
   "cell_type": "code",
   "execution_count": 52,
   "id": "122502ec-75aa-4a1e-ad1c-bbf68caf6132",
   "metadata": {},
   "outputs": [
    {
     "data": {
      "text/plain": [
       "array([[3, 1],\n",
       "       [6, 2]])"
      ]
     },
     "execution_count": 52,
     "metadata": {},
     "output_type": "execute_result"
    }
   ],
   "source": [
    "B = np.array([[3, 1],\n",
    "              [6, 2]])\n",
    "B"
   ]
  },
  {
   "cell_type": "code",
   "execution_count": 53,
   "id": "fee1dc08-a706-4cef-b944-f776caaa464e",
   "metadata": {},
   "outputs": [
    {
     "data": {
      "text/plain": [
       "0.0"
      ]
     },
     "execution_count": 53,
     "metadata": {},
     "output_type": "execute_result"
    }
   ],
   "source": [
    "np.linalg.det(B)"
   ]
  },
  {
   "cell_type": "code",
   "execution_count": 54,
   "id": "85d5b20e-d56c-4825-9682-3686230efa12",
   "metadata": {},
   "outputs": [
    {
     "ename": "LinAlgError",
     "evalue": "Singular matrix",
     "output_type": "error",
     "traceback": [
      "\u001b[0;31m---------------------------------------------------------------------------\u001b[0m",
      "\u001b[0;31mLinAlgError\u001b[0m                               Traceback (most recent call last)",
      "Cell \u001b[0;32mIn[54], line 1\u001b[0m\n\u001b[0;32m----> 1\u001b[0m \u001b[43mnp\u001b[49m\u001b[38;5;241;43m.\u001b[39;49m\u001b[43mlinalg\u001b[49m\u001b[38;5;241;43m.\u001b[39;49m\u001b[43minv\u001b[49m\u001b[43m(\u001b[49m\u001b[43mB\u001b[49m\u001b[43m)\u001b[49m\n",
      "File \u001b[0;32m<__array_function__ internals>:200\u001b[0m, in \u001b[0;36minv\u001b[0;34m(*args, **kwargs)\u001b[0m\n",
      "File \u001b[0;32m~/Developer/PytorchML/env/lib/python3.8/site-packages/numpy/linalg/linalg.py:538\u001b[0m, in \u001b[0;36minv\u001b[0;34m(a)\u001b[0m\n\u001b[1;32m    536\u001b[0m signature \u001b[38;5;241m=\u001b[39m \u001b[38;5;124m'\u001b[39m\u001b[38;5;124mD->D\u001b[39m\u001b[38;5;124m'\u001b[39m \u001b[38;5;28;01mif\u001b[39;00m isComplexType(t) \u001b[38;5;28;01melse\u001b[39;00m \u001b[38;5;124m'\u001b[39m\u001b[38;5;124md->d\u001b[39m\u001b[38;5;124m'\u001b[39m\n\u001b[1;32m    537\u001b[0m extobj \u001b[38;5;241m=\u001b[39m get_linalg_error_extobj(_raise_linalgerror_singular)\n\u001b[0;32m--> 538\u001b[0m ainv \u001b[38;5;241m=\u001b[39m \u001b[43m_umath_linalg\u001b[49m\u001b[38;5;241;43m.\u001b[39;49m\u001b[43minv\u001b[49m\u001b[43m(\u001b[49m\u001b[43ma\u001b[49m\u001b[43m,\u001b[49m\u001b[43m \u001b[49m\u001b[43msignature\u001b[49m\u001b[38;5;241;43m=\u001b[39;49m\u001b[43msignature\u001b[49m\u001b[43m,\u001b[49m\u001b[43m \u001b[49m\u001b[43mextobj\u001b[49m\u001b[38;5;241;43m=\u001b[39;49m\u001b[43mextobj\u001b[49m\u001b[43m)\u001b[49m\n\u001b[1;32m    539\u001b[0m \u001b[38;5;28;01mreturn\u001b[39;00m wrap(ainv\u001b[38;5;241m.\u001b[39mastype(result_t, copy\u001b[38;5;241m=\u001b[39m\u001b[38;5;28;01mFalse\u001b[39;00m))\n",
      "File \u001b[0;32m~/Developer/PytorchML/env/lib/python3.8/site-packages/numpy/linalg/linalg.py:89\u001b[0m, in \u001b[0;36m_raise_linalgerror_singular\u001b[0;34m(err, flag)\u001b[0m\n\u001b[1;32m     88\u001b[0m \u001b[38;5;28;01mdef\u001b[39;00m \u001b[38;5;21m_raise_linalgerror_singular\u001b[39m(err, flag):\n\u001b[0;32m---> 89\u001b[0m     \u001b[38;5;28;01mraise\u001b[39;00m LinAlgError(\u001b[38;5;124m\"\u001b[39m\u001b[38;5;124mSingular matrix\u001b[39m\u001b[38;5;124m\"\u001b[39m)\n",
      "\u001b[0;31mLinAlgError\u001b[0m: Singular matrix"
     ]
    }
   ],
   "source": [
    "np.linalg.inv(B)"
   ]
  },
  {
   "cell_type": "code",
   "execution_count": 56,
   "id": "2f69d3bc-aebd-4541-87b8-8a849e0ac04a",
   "metadata": {},
   "outputs": [],
   "source": [
    "# It is not possible to calculate the inverse of a singular matrix."
   ]
  }
 ],
 "metadata": {
  "kernelspec": {
   "display_name": "Python 3 (ipykernel)",
   "language": "python",
   "name": "python3"
  },
  "language_info": {
   "codemirror_mode": {
    "name": "ipython",
    "version": 3
   },
   "file_extension": ".py",
   "mimetype": "text/x-python",
   "name": "python",
   "nbconvert_exporter": "python",
   "pygments_lexer": "ipython3",
   "version": "3.8.17"
  }
 },
 "nbformat": 4,
 "nbformat_minor": 5
}
