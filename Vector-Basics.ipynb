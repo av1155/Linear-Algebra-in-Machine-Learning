{
 "cells": [
  {
   "cell_type": "code",
   "execution_count": 3,
   "id": "07090577-3376-4c73-abaf-ffb21bf598dc",
   "metadata": {},
   "outputs": [],
   "source": [
    "import numpy as np\n",
    "\n",
    "a = np.array([20, 40, 60])\n",
    "b = np.array([10, 40, -15])\n",
    "c = np.array([11, 31, 72, 28])"
   ]
  },
  {
   "cell_type": "code",
   "execution_count": 4,
   "id": "305dfcc7-69d8-4984-99f1-b2550b796da4",
   "metadata": {},
   "outputs": [
    {
     "name": "stdout",
     "output_type": "stream",
     "text": [
      "The addition of vectors a and b is: [30 80 45]\n",
      "The operands could not be broadcast together with shapes (3,) (4,) because the dimensions of the vectors are not the same... they cannot be added.\n"
     ]
    }
   ],
   "source": [
    "# Vector Addition\n",
    "print(f\"The addition of vectors a and b is: {a + b}\")\n",
    "\n",
    "try:\n",
    "    print(a + c)  # Error because dimensions are not the same.\n",
    "except Exception as e:\n",
    "    print(f\"The {e}because the dimensions of the vectors are not the same... they cannot be added.\")"
   ]
  },
  {
   "cell_type": "code",
   "execution_count": 5,
   "id": "67331b65-9344-4f13-b162-8cf655274674",
   "metadata": {},
   "outputs": [
    {
     "name": "stdout",
     "output_type": "stream",
     "text": [
      "The difference between the vectors a and b is: [10  0 75]\n",
      "The operands could not be broadcast together with shapes (3,) (4,) because the dimensions of the vectors are not the same... they cannot be subtracted.\n"
     ]
    }
   ],
   "source": [
    "# Vector Subtraction\n",
    "print(f\"The difference between the vectors a and b is: {a - b}\")\n",
    "\n",
    "try:\n",
    "    print(a - c)  # Error because dimensions are not the same.\n",
    "except Exception as e:\n",
    "    print(f\"The {e}because the dimensions of the vectors are not the same... they cannot be subtracted.\")"
   ]
  },
  {
   "cell_type": "code",
   "execution_count": 6,
   "id": "0854fdd3-e381-442b-9dc5-506213416cd2",
   "metadata": {},
   "outputs": [
    {
     "name": "stdout",
     "output_type": "stream",
     "text": [
      "The multiplication of array a and b is: [ 200 1600 -900]\n"
     ]
    }
   ],
   "source": [
    "# Vector Multiplication\n",
    "print(f\"The multiplication of array a and b is: {a * b}\")"
   ]
  },
  {
   "cell_type": "code",
   "execution_count": 7,
   "id": "90b55a41-b522-42f8-8be4-96edd59b0b41",
   "metadata": {},
   "outputs": [
    {
     "name": "stdout",
     "output_type": "stream",
     "text": [
      "The division of vectors a and b is: [ 2.  1. -4.]\n"
     ]
    }
   ],
   "source": [
    "# Vector Division\n",
    "print(f\"The division of vectors a and b is: {a / b}\")"
   ]
  },
  {
   "cell_type": "code",
   "execution_count": 10,
   "id": "caa66d99-315d-41ed-8850-635f787920bf",
   "metadata": {},
   "outputs": [
    {
     "name": "stdout",
     "output_type": "stream",
     "text": [
      "Scalar: 2\n",
      "List: [10, 11, 12, 13, 14, 15]\n"
     ]
    }
   ],
   "source": [
    "# Vector Scalar Multiplication\n",
    "scalar = 2\n",
    "list_a = [10, 11, 12, 13, 14, 15]\n",
    "\n",
    "print(f\"Scalar: {scalar}\")\n",
    "print(f\"List: {list_a}\")"
   ]
  },
  {
   "cell_type": "code",
   "execution_count": 11,
   "id": "b39ad350-8374-43ad-a01b-336bec655075",
   "metadata": {},
   "outputs": [
    {
     "name": "stdout",
     "output_type": "stream",
     "text": [
      "A scalar multiplied by an array list results in: [20 22 24 26 28 30]\n"
     ]
    }
   ],
   "source": [
    "# Convert and print the regular list to a numpy array list and multiply by scalar.\n",
    "list_as_array = np.array(list_a)\n",
    "print(f\"A scalar multiplied by an array list results in: {scalar * list_as_array}\")\n",
    "# Each number in the list is multiplied by the scalar and the list is modified with the new values."
   ]
  },
  {
   "cell_type": "code",
   "execution_count": 5,
   "id": "57930cad-79b8-46ad-a0c1-447fdf13dda0",
   "metadata": {},
   "outputs": [
    {
     "ename": "NameError",
     "evalue": "name 'scalar' is not defined",
     "output_type": "error",
     "traceback": [
      "\u001b[0;31m---------------------------------------------------------------------------\u001b[0m",
      "\u001b[0;31mNameError\u001b[0m                                 Traceback (most recent call last)",
      "Cell \u001b[0;32mIn[5], line 2\u001b[0m\n\u001b[1;32m      1\u001b[0m \u001b[38;5;66;03m# The following is `not` vector scalar multiplication, it is just a list being multiplied by a number, in this case, 2.\u001b[39;00m\n\u001b[0;32m----> 2\u001b[0m \u001b[38;5;28mprint\u001b[39m(\u001b[38;5;124mf\u001b[39m\u001b[38;5;124m\"\u001b[39m\u001b[38;5;124mA scalar multiplied by a list results in: \u001b[39m\u001b[38;5;132;01m{\u001b[39;00mscalar\u001b[38;5;250m \u001b[39m\u001b[38;5;241m*\u001b[39m\u001b[38;5;250m \u001b[39mlist_a\u001b[38;5;132;01m}\u001b[39;00m\u001b[38;5;124m\"\u001b[39m)\n",
      "\u001b[0;31mNameError\u001b[0m: name 'scalar' is not defined"
     ]
    }
   ],
   "source": [
    "# The following is `not` vector scalar multiplication, it is just a list being multiplied by a number, in this case, 2.\n",
    "print(f\"A scalar multiplied by a list results in: {scalar * list_a}\")"
   ]
  },
  {
   "cell_type": "code",
   "execution_count": 6,
   "id": "e4c7182f-dbd6-477b-9cfd-83ef7a34119a",
   "metadata": {},
   "outputs": [
    {
     "ename": "NameError",
     "evalue": "name 'np' is not defined",
     "output_type": "error",
     "traceback": [
      "\u001b[0;31m---------------------------------------------------------------------------\u001b[0m",
      "\u001b[0;31mNameError\u001b[0m                                 Traceback (most recent call last)",
      "Cell \u001b[0;32mIn[6], line 2\u001b[0m\n\u001b[1;32m      1\u001b[0m vectorAsList \u001b[38;5;241m=\u001b[39m [\u001b[38;5;241m1\u001b[39m, \u001b[38;5;241m2\u001b[39m, \u001b[38;5;241m3\u001b[39m, \u001b[38;5;241m4\u001b[39m, \u001b[38;5;241m5\u001b[39m]\n\u001b[0;32m----> 2\u001b[0m vectorAsArray \u001b[38;5;241m=\u001b[39m \u001b[43mnp\u001b[49m\u001b[38;5;241m.\u001b[39marray([\u001b[38;5;241m1\u001b[39m, \u001b[38;5;241m2\u001b[39m, \u001b[38;5;241m3\u001b[39m, \u001b[38;5;241m4\u001b[39m, \u001b[38;5;241m5\u001b[39m])\n\u001b[1;32m      3\u001b[0m rowVector \u001b[38;5;241m=\u001b[39m np\u001b[38;5;241m.\u001b[39marray([[\u001b[38;5;241m1\u001b[39m, \u001b[38;5;241m2\u001b[39m, \u001b[38;5;241m3\u001b[39m, \u001b[38;5;241m4\u001b[39m, \u001b[38;5;241m5\u001b[39m]])\n\u001b[1;32m      4\u001b[0m columnVector \u001b[38;5;241m=\u001b[39m np\u001b[38;5;241m.\u001b[39marray([[\u001b[38;5;241m1\u001b[39m], [\u001b[38;5;241m2\u001b[39m], [\u001b[38;5;241m3\u001b[39m], [\u001b[38;5;241m4\u001b[39m], [\u001b[38;5;241m5\u001b[39m]])\n",
      "\u001b[0;31mNameError\u001b[0m: name 'np' is not defined"
     ]
    }
   ],
   "source": [
    "vectorAsList = [1, 2, 3, 4, 5]\n",
    "vectorAsArray = np.array([1, 2, 3, 4, 5])\n",
    "rowVector = np.array([[1, 2, 3, 4, 5]])\n",
    "columnVector = np.array([[1], [2], [3], [4], [5]])"
   ]
  }
 ],
 "metadata": {
  "kernelspec": {
   "display_name": "Python 3 (ipykernel)",
   "language": "python",
   "name": "python3"
  },
  "language_info": {
   "codemirror_mode": {
    "name": "ipython",
    "version": 3
   },
   "file_extension": ".py",
   "mimetype": "text/x-python",
   "name": "python",
   "nbconvert_exporter": "python",
   "pygments_lexer": "ipython3",
   "version": "3.8.17"
  }
 },
 "nbformat": 4,
 "nbformat_minor": 5
}
