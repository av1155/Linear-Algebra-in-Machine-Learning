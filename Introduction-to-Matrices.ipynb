{
 "cells": [
  {
   "cell_type": "code",
   "execution_count": 1,
   "id": "ceadfebf-9843-44b5-b2f0-3bfbd891f179",
   "metadata": {},
   "outputs": [],
   "source": [
    "# Matrices\n",
    "\n",
    "# In the context of machine learning and linear algebra, matrices can be thought of as organized collections of numbers arranged in rows and columns. They are fundamental tools used to represent and manipulate data in various mathematical operations.\n",
    "\n",
    "# Think of a matrix as a structured grid of numbers, where each number is referred to as an element of the matrix. The rows run horizontally, and the columns run vertically. Matrices are used to perform operations like transformations, rotations, and scaling, making them incredibly valuable in describing transformations and relationships within data.\n",
    "\n",
    "# In machine learning, matrices are extensively used to represent datasets, where each row might correspond to a different data point, and each column represents a different feature or attribute. They enable us to perform mathematical operations on entire sets of data simultaneously, facilitating tasks like feature transformation, dimensionality reduction, and solving systems of linear equations.\n",
    "\n",
    "# Overall, matrices provide a way to organize and process data efficiently, making them a cornerstone of linear algebra, which is a foundational field in machine learning."
   ]
  },
  {
   "cell_type": "code",
   "execution_count": 2,
   "id": "9efdae19-c235-42af-a6f7-2f836510ef1a",
   "metadata": {},
   "outputs": [
    {
     "name": "stdout",
     "output_type": "stream",
     "text": [
      "Matrix A:\n",
      "[[1 2 3]\n",
      " [4 5 6]]\n",
      "\n",
      "Matrix B:\n",
      "[[2 0]\n",
      " [1 3]\n",
      " [2 2]]\n",
      "\n",
      "Result of Matrix Multiplication (A * B):\n",
      "[[10 12]\n",
      " [25 27]]\n"
     ]
    }
   ],
   "source": [
    "import numpy as np\n",
    "\n",
    "# Creating matrices\n",
    "matrix_a = np.array([[1, 2, 3],\n",
    "                     [4, 5, 6]])\n",
    "\n",
    "matrix_b = np.array([[2, 0],\n",
    "                     [1, 3],\n",
    "                     [2, 2]])\n",
    "\n",
    "# Matrix multiplication\n",
    "result = np.dot(matrix_a, matrix_b)\n",
    "\n",
    "print(\"Matrix A:\")\n",
    "print(matrix_a)\n",
    "\n",
    "print(\"\\nMatrix B:\")\n",
    "print(matrix_b)\n",
    "\n",
    "print(\"\\nResult of Matrix Multiplication (A * B):\")\n",
    "print(result)"
   ]
  },
  {
   "cell_type": "code",
   "execution_count": 3,
   "id": "837a4488-e02d-4a01-a8da-ab82604d8ba7",
   "metadata": {},
   "outputs": [],
   "source": [
    "# In this example, we're using the NumPy library to create and manipulate matrices. `matrix_a` is a 2x3 matrix (2 rows, 3 columns), and `matrix_b` is a 3x2 matrix (3 rows, 2 columns). We then perform matrix multiplication using `np.dot()` to get the result, which will be a 2x2 matrix.\n",
    "\n",
    "# Remember that for matrix multiplication, the number of columns in the first matrix must match the number of rows in the second matrix. The resulting matrix will have the same number of rows as the first matrix and the same number of columns as the second matrix."
   ]
  },
  {
   "cell_type": "code",
   "execution_count": 12,
   "id": "8ceba9e3-29c3-4661-80c5-b48184c08038",
   "metadata": {},
   "outputs": [],
   "source": [
    "# Types of Matrices"
   ]
  },
  {
   "cell_type": "code",
   "execution_count": 13,
   "id": "dc1b5ba6-7434-4fd2-88b4-e91e4ecdc9f4",
   "metadata": {},
   "outputs": [],
   "source": [
    "# There are seven different types of matrices:\n",
    "\n",
    "# - Rectangular Matrix: Imagine a table where the number of rows is not equal to the number of columns. This is called a rectangular matrix. It's like having different amounts of information for different items.\n",
    "\n",
    "# - Square Matrix: If you have a table where the number of rows is equal to the number of columns, you have a square matrix. It's like having a balanced collection of information, like a square photo frame.\n",
    "\n",
    "# - Symmetric Matrix: Think of a mirror. If the numbers in a square matrix are symmetrically placed around its main diagonal (the one going from the top left to the bottom right), it's a symmetric matrix. It's like having a perfectly balanced reflection of numbers.\n",
    "\n",
    "# - Zero Matrix: Imagine a table filled with zeros only. That's a zero matrix. It's like having a blank canvas with no information.\n",
    "\n",
    "# - Identity Matrix: Picture a square matrix where the main diagonal contains ones, and the rest are zeros. This is an identity matrix. It's like a magic mirror that doesn't change anything when you multiply it with another matrix.\n",
    "\n",
    "# - Diagonal Matrix: Think of a square matrix where the only non-zero elements are on the main diagonal. It's like having a table where each item only affects itself, but not the others.\n",
    "\n",
    "# - Triangular Matrix: Imagine dividing a square matrix into two parts diagonally - one with zeros above the diagonal and the other with zeros below. These are upper triangular and lower triangular matrices. It's like having information that flows in a specific direction.\n",
    "\n",
    "# So, different types of matrices are like different arrangements of numbers in tables, each with its own special characteristics and uses."
   ]
  },
  {
   "cell_type": "code",
   "execution_count": 11,
   "id": "dc63dd3b-72b5-45dd-852b-ca97b843b0f7",
   "metadata": {},
   "outputs": [],
   "source": [
    "# Types of Matrix Transformation"
   ]
  },
  {
   "cell_type": "code",
   "execution_count": 10,
   "id": "9652c1ca-4a5b-4181-8df6-70e0307d7a93",
   "metadata": {},
   "outputs": [],
   "source": [
    "# Matrix transformations are operations that change the positions, sizes, and orientations of points or vectors in a space. They play a crucial role in fields like linear algebra and computer graphics. Here are some common types of matrix transformations explained in simple terms:\n",
    "\n",
    "# Translation: This transformation shifts all points or vectors by a certain amount in a specific direction. Think of it as moving an entire shape without changing its size or shape.\n",
    "\n",
    "# Scaling: Scaling changes the size of points or vectors uniformly in all directions. Envision it like stretching or shrinking an object while keeping its proportions.\n",
    "\n",
    "# Rotation: Rotation turns points or vectors around a central point (often the origin). It's like spinning an object in place.\n",
    "\n",
    "# Shearing: Shearing skews or distorts an object along a particular axis. Picture it like pushing the top or side of an object to make it slant.\n",
    "\n",
    "# Reflection: Reflection flips points or vectors over a certain line, like a mirror. It's like seeing a flipped version of an object in water.\n",
    "\n",
    "# Projection: Projection transforms points or vectors onto a lower-dimensional subspace. Imagine casting a shadow of a 3D object onto a 2D surface.\n",
    "\n",
    "# Affine Transformation: Affine transformations combine translation, rotation, scaling, and shearing. They maintain parallel lines but can change the shape, size, and position of objects.\n",
    "\n",
    "# Perspective Transformation: Often used in computer graphics, this transformation mimics the way objects appear smaller as they get farther away. It's like creating an illusion of depth in 2D images.\n",
    "\n",
    "# Each type of transformation is represented by a specific matrix. Applying these transformations to points or vectors using these matrices helps manipulate and visualize objects in different ways. These transformations are vital in various fields, from computer graphics and animations to physics simulations and data analysis."
   ]
  },
  {
   "cell_type": "code",
   "execution_count": 8,
   "id": "d747cf30-b1aa-478a-be64-e33a768d6473",
   "metadata": {},
   "outputs": [],
   "source": [
    "# Composition or combination of matrix transformations:"
   ]
  },
  {
   "cell_type": "code",
   "execution_count": 9,
   "id": "7f55560d-adf3-4377-9f51-34728ab02fbb",
   "metadata": {},
   "outputs": [],
   "source": [
    "# Composition or combination of matrix transformations involves applying multiple transformations in a sequence. This creates a new transformation that's a result of the individual transformations being applied one after another.\n",
    "\n",
    "# Think of it like following a set of instructions step by step. Each transformation changes the object's properties, and when you combine multiple transformations, you get a more complex change in the end.\n",
    "\n",
    "# For example, if you first rotate an object and then scale it, the final result will be different from scaling and then rotating. The order of transformations matters. Combining transformations can create intricate changes in position, size, and orientation of objects in a space."
   ]
  },
  {
   "cell_type": "code",
   "execution_count": 14,
   "id": "5c562736-7288-41a0-96bc-b9b41d9d80b0",
   "metadata": {},
   "outputs": [
    {
     "data": {
      "image/png": "[encoded data removed]",
      "text/plain": [
       "<Figure size 800x600 with 1 Axes>"
      ]
     },
     "metadata": {},
     "output_type": "display_data"
    }
   ],
   "source": [
    "import numpy as np\n",
    "import matplotlib.pyplot as plt\n",
    "import matplotlib.patches as patches\n",
    "\n",
    "# Original points\n",
    "points = np.array([[1, 1],\n",
    "                   [2, 1],\n",
    "                   [2, 2],\n",
    "                   [1, 2]])\n",
    "\n",
    "# Create a figure and axis\n",
    "fig, ax = plt.subplots(figsize=(8, 6))\n",
    "\n",
    "# Original shape\n",
    "original_shape = patches.Polygon(points, closed=True, fill=None, edgecolor='black')\n",
    "ax.add_patch(original_shape)\n",
    "\n",
    "# Transformation matrices\n",
    "translate_matrix = np.array([[1, 0, 1],\n",
    "                             [0, 1, 1],\n",
    "                             [0, 0, 1]])\n",
    "\n",
    "scale_matrix = np.array([[0.5, 0, 0],\n",
    "                         [0, 0.5, 0],\n",
    "                         [0, 0, 1]])\n",
    "\n",
    "rotate_matrix = np.array([[np.cos(np.pi/4), -np.sin(np.pi/4), 0],\n",
    "                          [np.sin(np.pi/4), np.cos(np.pi/4), 0],\n",
    "                          [0, 0, 1]])\n",
    "\n",
    "shear_matrix = np.array([[1, 0.5, 0],\n",
    "                         [0.5, 1, 0],\n",
    "                         [0, 0, 1]])\n",
    "\n",
    "reflection_matrix = np.array([[-1, 0, 0],\n",
    "                              [0, 1, 0],\n",
    "                              [0, 0, 1]])\n",
    "\n",
    "# Apply transformations and plot\n",
    "transformations = [translate_matrix, scale_matrix, rotate_matrix, shear_matrix, reflection_matrix]\n",
    "\n",
    "for transform in transformations:\n",
    "    transformed_points = points @ transform[:2, :2].T + transform[:2, 2]\n",
    "    transformed_shape = patches.Polygon(transformed_points, closed=True, fill=None, edgecolor='red', linestyle='dashed')\n",
    "    ax.add_patch(transformed_shape)\n",
    "\n",
    "ax.set_xlim(-2, 3)\n",
    "ax.set_ylim(-2, 3)\n",
    "ax.set_aspect('equal', adjustable='datalim')\n",
    "plt.grid()\n",
    "plt.show()"
   ]
  },
  {
   "cell_type": "code",
   "execution_count": 17,
   "id": "7f78c85a-667a-4139-a69f-32c229840edf",
   "metadata": {},
   "outputs": [],
   "source": [
    "# In this example, we start with a simple square defined by its vertices in the points array. We then create various transformation matrices for translation, scaling, rotation, shearing, and reflection. For each transformation, we apply the matrix to the original points and plot the transformed shape on the same figure.\n",
    "\n",
    "# Keep in mind that this is a simplified example for demonstration purposes. In real-world scenarios, more complex transformations might be required, and libraries like NumPy and matplotlib provide the tools to perform and visualize such transformations."
   ]
  }
 ],
 "metadata": {
  "kernelspec": {
   "display_name": "Python 3 (ipykernel)",
   "language": "python",
   "name": "python3"
  },
  "language_info": {
   "codemirror_mode": {
    "name": "ipython",
    "version": 3
   },
   "file_extension": ".py",
   "mimetype": "text/x-python",
   "name": "python",
   "nbconvert_exporter": "python",
   "pygments_lexer": "ipython3",
   "version": "3.8.17"
  }
 },
 "nbformat": 4,
 "nbformat_minor": 5
}
