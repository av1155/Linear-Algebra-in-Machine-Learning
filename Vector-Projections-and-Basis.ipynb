{
 "cells": [
  {
   "cell_type": "code",
   "execution_count": 6,
   "id": "5df74db7-2fc6-40ca-ba7e-7f821f1d65fd",
   "metadata": {},
   "outputs": [],
   "source": [
    "import numpy as np"
   ]
  },
  {
   "cell_type": "code",
   "execution_count": 1,
   "id": "712c07d3-aa85-483c-a73e-7bbc3621f38d",
   "metadata": {},
   "outputs": [],
   "source": [
    "# Vector Dot Product\n",
    "# The dot product is the sum of the products of the corresponding entries of the two sequences of numbers.\n",
    "# The dot product of two vectors is a scalar."
   ]
  },
  {
   "cell_type": "code",
   "execution_count": 4,
   "id": "7cc23db4-7bf2-45ec-9bc3-756b3eb5cdc1",
   "metadata": {},
   "outputs": [
    {
     "name": "stdout",
     "output_type": "stream",
     "text": [
      "The dot product of a and b (a.b) is: 32\n"
     ]
    }
   ],
   "source": [
    "a = np.array([1, 2, 3])\n",
    "b = np.array([4, 5, 6])\n",
    "# a.b = 1*4 + 2*5 + 3*6 = 32\n",
    "\n",
    "a_dot_b = np.dot(a, b)\n",
    "print(f\"The dot product of a and b (a.b) is: {a_dot_b}\")"
   ]
  },
  {
   "cell_type": "code",
   "execution_count": 5,
   "id": "12c0362d-2929-4c0b-9b4c-3640dedc86f4",
   "metadata": {},
   "outputs": [],
   "source": [
    "# There are three different ways to represent the dot product of two vectors.\n",
    "\n",
    "# a**T*b\n",
    "# a.b\n",
    "# < a, b >"
   ]
  },
  {
   "cell_type": "code",
   "execution_count": 6,
   "id": "6a88478f-a308-4d14-b819-1e017aa3b010",
   "metadata": {},
   "outputs": [
    {
     "name": "stdout",
     "output_type": "stream",
     "text": [
      "The dot product of b.a is the same as a.b: 32\n"
     ]
    }
   ],
   "source": [
    "c = np.array([7, 8, 9])\n",
    "\n",
    "print(f\"The dot product of b.a is the same as a.b: {np.dot(b,a)}\")"
   ]
  },
  {
   "cell_type": "code",
   "execution_count": 7,
   "id": "ba46ada6-8b07-4898-a116-1dedd3179882",
   "metadata": {},
   "outputs": [
    {
     "name": "stdout",
     "output_type": "stream",
     "text": [
      "The first result is: 82\n"
     ]
    }
   ],
   "source": [
    "first_result = np.dot(a, b + c)\n",
    "print(f\"The first result is: {np.dot(a, b + c)}\")"
   ]
  },
  {
   "cell_type": "code",
   "execution_count": 8,
   "id": "9124bd8e-e1c8-4933-b943-fe8d8f242ccd",
   "metadata": {},
   "outputs": [
    {
     "name": "stdout",
     "output_type": "stream",
     "text": [
      "The second result is: 82\n"
     ]
    }
   ],
   "source": [
    "second_result = np.dot(a, b) + np.dot(a, c)\n",
    "print(f\"The second result is: {np.dot(a, b) + np.dot(a, c)}\")"
   ]
  },
  {
   "cell_type": "code",
   "execution_count": 9,
   "id": "92d3605d-45ed-4dd0-bc99-86afb005759d",
   "metadata": {},
   "outputs": [],
   "source": [
    "# Scalar and Vector Projection"
   ]
  },
  {
   "cell_type": "code",
   "execution_count": 10,
   "id": "d0149ef4-d40d-446d-a020-54f38bfb1c1d",
   "metadata": {},
   "outputs": [],
   "source": [
    "# Magnitude of a Vector\n",
    "# To calculate the magnitude of vector a, we just need to use numpy as such: \n",
    "\n",
    "# Magnitude = np.norm(a)"
   ]
  },
  {
   "cell_type": "code",
   "execution_count": 1,
   "id": "ddbb004e-db51-47ac-8e02-fffc430ceeab",
   "metadata": {},
   "outputs": [],
   "source": [
    "# Vector Projection:\n",
    "# A vector projection of vector a onto another vector b is the orthogonal projection of a onto b."
   ]
  },
  {
   "cell_type": "code",
   "execution_count": 9,
   "id": "6f5bc15e-d5f6-4f06-b5c9-428a05f72b11",
   "metadata": {},
   "outputs": [],
   "source": [
    "import numpy as np1\n",
    "from numpy import linalg as lng"
   ]
  },
  {
   "cell_type": "code",
   "execution_count": 22,
   "id": "6aec19bf-4d88-48eb-bcb6-b3aa55feb8c5",
   "metadata": {},
   "outputs": [],
   "source": [
    "a = np1.array([20, 30, 40, 50]) # Vector a\n",
    "b = np1.array([60, 70, 80, 90]) # Vector b"
   ]
  },
  {
   "cell_type": "code",
   "execution_count": 23,
   "id": "dad758ef-b4ca-4f45-8701-1bedc18922e8",
   "metadata": {},
   "outputs": [
    {
     "data": {
      "text/plain": [
       "73.48469228349535"
      ]
     },
     "execution_count": 23,
     "metadata": {},
     "output_type": "execute_result"
    }
   ],
   "source": [
    "# To calculate a norm of the vector a:\n",
    "lng.norm(a)"
   ]
  },
  {
   "cell_type": "code",
   "execution_count": 21,
   "id": "06013e30-2fdd-4945-849c-63530f7008b6",
   "metadata": {},
   "outputs": [
    {
     "name": "stdout",
     "output_type": "stream",
     "text": [
      "[28.69565217 33.47826087 38.26086957 43.04347826]\n"
     ]
    }
   ],
   "source": [
    "# The projection of a vector a onto vector b is the division of the dot product of (a,b) and the dot product of (b,b) multiplied by the vector b:\n",
    "\n",
    "vector_projection = (np1.dot(a, b) / np1.dot(b, b)) * b\n",
    "print(vector_projection)"
   ]
  },
  {
   "cell_type": "code",
   "execution_count": 20,
   "id": "d88764fa-f8b4-44c2-a533-fee80805d1c2",
   "metadata": {},
   "outputs": [],
   "source": [
    "# Changing Basis of Vectors"
   ]
  },
  {
   "cell_type": "code",
   "execution_count": 1,
   "id": "761a44db-c487-4a56-ae6e-ebd3379d15b8",
   "metadata": {},
   "outputs": [],
   "source": [
    "# Basis Vectors have three properties:\n",
    "# 1: Are linearly independent of each other\n",
    "# 2: Span the whole space\n",
    "# 3: Aren't unique"
   ]
  },
  {
   "cell_type": "code",
   "execution_count": 4,
   "id": "89737de4-2969-4534-89de-abfaf9c04786",
   "metadata": {},
   "outputs": [
    {
     "name": "stdout",
     "output_type": "stream",
     "text": [
      "[2, 1]\n"
     ]
    }
   ],
   "source": [
    "a = [4, -3]\n",
    "a = 1 * [2, 1] + (-2) * [-1, 2]\n",
    "print(a)"
   ]
  },
  {
   "cell_type": "code",
   "execution_count": 11,
   "id": "6c1a175e-e695-4ae2-8224-9983276e22e3",
   "metadata": {},
   "outputs": [
    {
     "name": "stdout",
     "output_type": "stream",
     "text": [
      "[13 19]\n"
     ]
    }
   ],
   "source": [
    "# Example of matrix-vector multiplication using the symbol @\n",
    "\n",
    "A = np.array([[2, 1],\n",
    "              [1, 3]])\n",
    "\n",
    "B = np.array([4, 5])\n",
    "\n",
    "result = A @ B  # Matrix-vector multiplication\n",
    "\n",
    "print(result)"
   ]
  },
  {
   "cell_type": "code",
   "execution_count": 10,
   "id": "9a413e41-b3c1-4616-85ea-f1a13a3b87cf",
   "metadata": {},
   "outputs": [
    {
     "name": "stdout",
     "output_type": "stream",
     "text": [
      "Original Vector: [4 5]\n",
      "Vector in New Basis: [1.4 4.2]\n"
     ]
    }
   ],
   "source": [
    "# Original basis vectors\n",
    "basis_original = np1.array([[2, 1],\n",
    "                           [1, 3]])\n",
    "\n",
    "# New basis vectors\n",
    "basis_new = np1.array([[3, -1],\n",
    "                      [1, 2]])\n",
    "\n",
    "# Vector in the original basis\n",
    "vector_original = np1.array([4, 5])\n",
    "\n",
    "# Compute the transformation matrix from original to new basis\n",
    "transformation_matrix = np1.linalg.inv(basis_original) @ basis_new\n",
    "\n",
    "# Transform the vector to the new basis\n",
    "vector_new = transformation_matrix @ vector_original\n",
    "\n",
    "print(\"Original Vector:\", vector_original)\n",
    "print(\"Vector in New Basis:\", vector_new)"
   ]
  },
  {
   "cell_type": "code",
   "execution_count": 3,
   "id": "b7d9f28d-3a3d-4834-9f88-15db049ae261",
   "metadata": {},
   "outputs": [],
   "source": [
    "# Basis, Linear Independence, and Span"
   ]
  },
  {
   "cell_type": "code",
   "execution_count": null,
   "id": "03323431-c73d-498f-8d5e-84150e515fd8",
   "metadata": {},
   "outputs": [],
   "source": [
    "# Spanning Set:\n",
    "# The set {v1, ..., vn} is a spanning set for V if and only if every vector in V can be written as a linear combination of v1, ..., vn."
   ]
  },
  {
   "cell_type": "code",
   "execution_count": 12,
   "id": "a291d039-b94e-4e52-8aea-7219b33d0680",
   "metadata": {},
   "outputs": [
    {
     "name": "stdout",
     "output_type": "stream",
     "text": [
      "Original Basis:\n",
      "[[2 1]\n",
      " [1 3]]\n",
      "\n",
      "Vectors for Demonstrating Span:\n",
      "[2 1]\n",
      "[-1  2]\n",
      "[3 5]\n",
      "\n",
      "Linear Independence: False\n",
      "Spanning the Space: True\n"
     ]
    }
   ],
   "source": [
    "# Original basis vectors\n",
    "basis = np1.array([[2, 1],\n",
    "                  [1, 3]])\n",
    "\n",
    "# Vectors for demonstrating span\n",
    "vector1 = np1.array([2, 1])\n",
    "vector2 = np1.array([-1, 2])\n",
    "vector3 = np1.array([3, 5])\n",
    "\n",
    "# Check linear independence\n",
    "vectors = np1.vstack((vector1, vector2, vector3))\n",
    "linear_independent = np1.linalg.matrix_rank(vectors) == vectors.shape[0]\n",
    "\n",
    "# Check if vectors span the space\n",
    "spanning_matrix = np1.vstack((vector1, vector2, vector3))\n",
    "spanning_space = np1.linalg.matrix_rank(spanning_matrix) == basis.shape[0]\n",
    "\n",
    "print(\"Original Basis:\")\n",
    "print(basis)\n",
    "\n",
    "print(\"\\nVectors for Demonstrating Span:\")\n",
    "print(vector1)\n",
    "print(vector2)\n",
    "print(vector3)\n",
    "\n",
    "print(\"\\nLinear Independence:\", linear_independent)\n",
    "print(\"Spanning the Space:\", spanning_space)"
   ]
  }
 ],
 "metadata": {
  "kernelspec": {
   "display_name": "Python 3 (ipykernel)",
   "language": "python",
   "name": "python3"
  },
  "language_info": {
   "codemirror_mode": {
    "name": "ipython",
    "version": 3
   },
   "file_extension": ".py",
   "mimetype": "text/x-python",
   "name": "python",
   "nbconvert_exporter": "python",
   "pygments_lexer": "ipython3",
   "version": "3.8.17"
  }
 },
 "nbformat": 4,
 "nbformat_minor": 5
}
