{
 "cells": [
  {
   "cell_type": "code",
   "execution_count": 3,
   "id": "5df74db7-2fc6-40ca-ba7e-7f821f1d65fd",
   "metadata": {},
   "outputs": [],
   "source": [
    "import numpy as np"
   ]
  },
  {
   "cell_type": "code",
   "execution_count": 1,
   "id": "712c07d3-aa85-483c-a73e-7bbc3621f38d",
   "metadata": {},
   "outputs": [],
   "source": [
    "# Vector Dot Product\n",
    "# The dot product is the sum of the products of the corresponding entries of the two sequences of numbers.\n",
    "# The dot product of two vectors is a scalar."
   ]
  },
  {
   "cell_type": "code",
   "execution_count": 4,
   "id": "7cc23db4-7bf2-45ec-9bc3-756b3eb5cdc1",
   "metadata": {},
   "outputs": [
    {
     "name": "stdout",
     "output_type": "stream",
     "text": [
      "The dot product of a and b (a.b) is: 32\n"
     ]
    }
   ],
   "source": [
    "a = np.array([1, 2, 3])\n",
    "b = np.array([4, 5, 6])\n",
    "# a.b = 1*4 + 2*5 + 3*6 = 32\n",
    "\n",
    "a_dot_b = np.dot(a, b)\n",
    "print(f\"The dot product of a and b (a.b) is: {a_dot_b}\")"
   ]
  },
  {
   "cell_type": "code",
   "execution_count": 5,
   "id": "12c0362d-2929-4c0b-9b4c-3640dedc86f4",
   "metadata": {},
   "outputs": [],
   "source": [
    "# There are three different ways to represent the dot product of two vectors.\n",
    "\n",
    "# a**T*b\n",
    "# a.b\n",
    "# < a, b >"
   ]
  },
  {
   "cell_type": "code",
   "execution_count": 6,
   "id": "6a88478f-a308-4d14-b819-1e017aa3b010",
   "metadata": {},
   "outputs": [
    {
     "name": "stdout",
     "output_type": "stream",
     "text": [
      "The dot product of b.a is the same as a.b: 32\n"
     ]
    }
   ],
   "source": [
    "c = np.array([7, 8, 9])\n",
    "\n",
    "print(f\"The dot product of b.a is the same as a.b: {np.dot(b,a)}\")"
   ]
  },
  {
   "cell_type": "code",
   "execution_count": 7,
   "id": "ba46ada6-8b07-4898-a116-1dedd3179882",
   "metadata": {},
   "outputs": [
    {
     "name": "stdout",
     "output_type": "stream",
     "text": [
      "The first result is: 82\n"
     ]
    }
   ],
   "source": [
    "first_result = np.dot(a, b + c)\n",
    "print(f\"The first result is: {np.dot(a, b + c)}\")"
   ]
  },
  {
   "cell_type": "code",
   "execution_count": 8,
   "id": "9124bd8e-e1c8-4933-b943-fe8d8f242ccd",
   "metadata": {},
   "outputs": [
    {
     "name": "stdout",
     "output_type": "stream",
     "text": [
      "The second result is: 82\n"
     ]
    }
   ],
   "source": [
    "second_result = np.dot(a, b) + np.dot(a, c)\n",
    "print(f\"The second result is: {np.dot(a, b) + np.dot(a, c)}\")"
   ]
  },
  {
   "cell_type": "code",
   "execution_count": 9,
   "id": "92d3605d-45ed-4dd0-bc99-86afb005759d",
   "metadata": {},
   "outputs": [],
   "source": [
    "# Scalar and Vector Projection"
   ]
  },
  {
   "cell_type": "code",
   "execution_count": 10,
   "id": "d0149ef4-d40d-446d-a020-54f38bfb1c1d",
   "metadata": {},
   "outputs": [],
   "source": [
    "# Magnitude of a Vector\n",
    "# To calculate the magnitude of vector a, we just need to use numpy as such: \n",
    "\n",
    "# Magnitude = np.norm(a)"
   ]
  },
  {
   "cell_type": "code",
   "execution_count": 11,
   "id": "ddbb004e-db51-47ac-8e02-fffc430ceeab",
   "metadata": {},
   "outputs": [],
   "source": [
    "# Vector Projection:\n",
    "# A vector projection of a vector a onto another vector b is the orthogonal projection of a onto b."
   ]
  },
  {
   "cell_type": "code",
   "execution_count": null,
   "id": "6f5bc15e-d5f6-4f06-b5c9-428a05f72b11",
   "metadata": {},
   "outputs": [],
   "source": []
  }
 ],
 "metadata": {
  "kernelspec": {
   "display_name": "Python 3 (ipykernel)",
   "language": "python",
   "name": "python3"
  },
  "language_info": {
   "codemirror_mode": {
    "name": "ipython",
    "version": 3
   },
   "file_extension": ".py",
   "mimetype": "text/x-python",
   "name": "python",
   "nbconvert_exporter": "python",
   "pygments_lexer": "ipython3",
   "version": "3.8.17"
  }
 },
 "nbformat": 4,
 "nbformat_minor": 5
}
