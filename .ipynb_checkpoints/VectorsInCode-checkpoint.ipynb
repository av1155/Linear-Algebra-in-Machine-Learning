{
 "cells": [
  {
   "cell_type": "code",
   "execution_count": 3,
   "id": "07090577-3376-4c73-abaf-ffb21bf598dc",
   "metadata": {},
   "outputs": [],
   "source": [
    "import numpy as np\n",
    "\n",
    "a = np.array([20, 40, 60])\n",
    "b = np.array([10, 40, -15])\n",
    "c = np.array([11, 31, 72, 28])"
   ]
  },
  {
   "cell_type": "code",
   "execution_count": 4,
   "id": "305dfcc7-69d8-4984-99f1-b2550b796da4",
   "metadata": {},
   "outputs": [
    {
     "name": "stdout",
     "output_type": "stream",
     "text": [
      "The addition of vectors a and b is: [30 80 45]\n",
      "The operands could not be broadcast together with shapes (3,) (4,) because the dimensions of the vectors are not the same... they cannot be added.\n"
     ]
    }
   ],
   "source": [
    "# Vector Addition\n",
    "print(f\"The addition of vectors a and b is: {a + b}\")\n",
    "\n",
    "try:\n",
    "    print(a + c)  # Error because dimensions are not the same.\n",
    "except Exception as e:\n",
    "    print(f\"The {e}because the dimensions of the vectors are not the same... they cannot be added.\")"
   ]
  },
  {
   "cell_type": "code",
   "execution_count": 5,
   "id": "67331b65-9344-4f13-b162-8cf655274674",
   "metadata": {},
   "outputs": [
    {
     "name": "stdout",
     "output_type": "stream",
     "text": [
      "The difference between the vectors a and b is: [10  0 75]\n",
      "The operands could not be broadcast together with shapes (3,) (4,) because the dimensions of the vectors are not the same... they cannot be subtracted.\n"
     ]
    }
   ],
   "source": [
    "# Vector Subtraction\n",
    "print(f\"The difference between the vectors a and b is: {a - b}\")\n",
    "\n",
    "try:\n",
    "    print(a - c)  # Error because dimensions are not the same.\n",
    "except Exception as e:\n",
    "    print(f\"The {e}because the dimensions of the vectors are not the same... they cannot be subtracted.\")"
   ]
  },
  {
   "cell_type": "code",
   "execution_count": 6,
   "id": "0854fdd3-e381-442b-9dc5-506213416cd2",
   "metadata": {},
   "outputs": [
    {
     "name": "stdout",
     "output_type": "stream",
     "text": [
      "The multiplication of array a and b is: [ 200 1600 -900]\n"
     ]
    }
   ],
   "source": [
    "# Vector Multiplication\n",
    "print(f\"The multiplication of array a and b is: {a * b}\")"
   ]
  },
  {
   "cell_type": "code",
   "execution_count": 7,
   "id": "90b55a41-b522-42f8-8be4-96edd59b0b41",
   "metadata": {},
   "outputs": [
    {
     "name": "stdout",
     "output_type": "stream",
     "text": [
      "The division of vectors a and b is: [ 2.  1. -4.]\n"
     ]
    }
   ],
   "source": [
    "# Vector Division\n",
    "print(f\"The division of vectors a and b is: {a / b}\")"
   ]
  },
  {
   "cell_type": "code",
   "execution_count": 10,
   "id": "caa66d99-315d-41ed-8850-635f787920bf",
   "metadata": {},
   "outputs": [
    {
     "name": "stdout",
     "output_type": "stream",
     "text": [
      "Scalar: 2\n",
      "List: [10, 11, 12, 13, 14, 15]\n"
     ]
    }
   ],
   "source": [
    "# Vector Scalar Multiplication\n",
    "scalar = 2\n",
    "list_a = [10, 11, 12, 13, 14, 15]\n",
    "\n",
    "print(f\"Scalar: {scalar}\")\n",
    "print(f\"List: {list_a}\")"
   ]
  },
  {
   "cell_type": "code",
   "execution_count": 11,
   "id": "b39ad350-8374-43ad-a01b-336bec655075",
   "metadata": {},
   "outputs": [
    {
     "name": "stdout",
     "output_type": "stream",
     "text": [
      "A scalar multiplied by an array list results in: [20 22 24 26 28 30]\n"
     ]
    }
   ],
   "source": [
    "# Convert and print the regular list to a numpy array list and multiply by scalar.\n",
    "list_as_array = np.array(list_a)\n",
    "print(f\"A scalar multiplied by an array list results in: {scalar * list_as_array}\")\n",
    "# Each number in the list is multiplied by the scalar and the list is modified with the new values."
   ]
  },
  {
   "cell_type": "code",
   "execution_count": 12,
   "id": "57930cad-79b8-46ad-a0c1-447fdf13dda0",
   "metadata": {},
   "outputs": [
    {
     "name": "stdout",
     "output_type": "stream",
     "text": [
      "A scalar multiplied by a list results in: [10, 11, 12, 13, 14, 15, 10, 11, 12, 13, 14, 15]\n"
     ]
    }
   ],
   "source": [
    "# The following is `not` vector scalar multiplication, it is just a list being multiplied by a number, in this case, 2.\n",
    "print(f\"A scalar multiplied by a list results in: {scalar * list_a}\")"
   ]
  },
  {
   "cell_type": "code",
   "execution_count": 13,
   "id": "241a3f80-d0f5-4911-9240-f39d1d6f2e78",
   "metadata": {},
   "outputs": [],
   "source": [
    "vectorAsList = [1, 2, 3, 4, 5]\n",
    "vectorAsArray = np.array([1, 2, 3, 4, 5])\n",
    "rowVector = np.array([[1, 2, 3, 4, 5]])\n",
    "columnVector = np.array([[1], [2], [3], [4], [5]])"
   ]
  },
  {
   "cell_type": "code",
   "execution_count": 15,
   "id": "71b9949a-7979-423c-8e87-226102687775",
   "metadata": {},
   "outputs": [],
   "source": [
    "# QUIZ\n",
    "# Question 1 of 3\n",
    "# What is the difference between a scalar and a vector?\n",
    "\n",
    "# a scalar is a number and a vector is an ordered list of numbers that has both dimensionality and orientation\n",
    "# Correct\n",
    "\n",
    "# Question 2 of 3\n",
    "# What are the correct ways to define a vector? \n",
    "\n",
    "# A. vectorAsTuple = [(1,2,3,4,5)]\n",
    "\n",
    "# B. vectorAsList = [1,2,3,4,5]\n",
    "\n",
    "# C. vectorAsArray = np.array([1,2,3,4,5])\n",
    "\n",
    "# D. columnVector = np.array([ [1,2],[3,4],[5]])\n",
    "\n",
    "# E. rowVector = np.array([ [1,2,3,4,5] ])\n",
    "\n",
    "# B,C,E\n",
    "# Correct\n",
    "\n",
    "# Question 3 of 3\n",
    "# In which case will the direction of the vector change in a case of vector scalar multiplication?\n",
    "\n",
    "# in the case scalar is negative\n",
    "# Correct"
   ]
  },
  {
   "cell_type": "code",
   "execution_count": 18,
   "id": "5c611ee6-c71a-48c0-832d-145686393a88",
   "metadata": {},
   "outputs": [
    {
     "name": "stdout",
     "output_type": "stream",
     "text": [
      "The dot product of a and b (a.b) is: 32\n"
     ]
    }
   ],
   "source": [
    "a = np.array([1, 2, 3])\n",
    "b = np.array([4, 5, 6])\n",
    "# a.b = 1*4 + 2*5 + 3*6 = 32\n",
    "\n",
    "a_dot_b = np.dot(a, b)\n",
    "print(f\"The dot product of a and b (a.b) is: {a_dot_b}\")"
   ]
  },
  {
   "cell_type": "code",
   "execution_count": 17,
   "id": "42e6f855-a605-4391-ac0f-3f1250a21282",
   "metadata": {},
   "outputs": [],
   "source": [
    "# There are three different ways to represent the dot product of two vectors.\n",
    "\n",
    "# a**T*b\n",
    "# a.b\n",
    "# < a, b >"
   ]
  },
  {
   "cell_type": "code",
   "execution_count": 20,
   "id": "e3ee0002-fcaa-4e70-bfa4-c2887d15f11c",
   "metadata": {},
   "outputs": [
    {
     "name": "stdout",
     "output_type": "stream",
     "text": [
      "The dot product of b.a is the same as a.b: 32\n"
     ]
    }
   ],
   "source": [
    "c = np.array([7, 8, 9])\n",
    "\n",
    "print(f\"The dot product of b.a is the same as a.b: {np.dot(b,a)}\")"
   ]
  },
  {
   "cell_type": "code",
   "execution_count": 21,
   "id": "fefc8bb7-2ba7-4eaf-9f87-e5abbf4352e8",
   "metadata": {},
   "outputs": [
    {
     "name": "stdout",
     "output_type": "stream",
     "text": [
      "The first result is: 82\n"
     ]
    }
   ],
   "source": [
    "first_result = np.dot(a, b + c)\n",
    "print(f\"The first result is: {np.dot(a, b + c)}\")"
   ]
  },
  {
   "cell_type": "code",
   "execution_count": 22,
   "id": "244cf00a-afb6-4af3-9f83-cb739fa1710a",
   "metadata": {},
   "outputs": [
    {
     "name": "stdout",
     "output_type": "stream",
     "text": [
      "The second result is: 82\n"
     ]
    }
   ],
   "source": [
    "second_result = np.dot(a, b) + np.dot(a, c)\n",
    "print(f\"The second result is: {np.dot(a, b) + np.dot(a, c)}\")"
   ]
  },
  {
   "cell_type": "code",
   "execution_count": 23,
   "id": "4cce1eec-ed97-44d9-b2b1-20a32748963a",
   "metadata": {},
   "outputs": [],
   "source": [
    "# Scalar and Vector Projection"
   ]
  },
  {
   "cell_type": "code",
   "execution_count": 28,
   "id": "97c447fc-7740-4750-ba9c-567b4d2b2c59",
   "metadata": {},
   "outputs": [],
   "source": [
    "# Magnitude of a Vector\n",
    "# To calculate the magnitude of vector a, we just need to use numpy as such: \n",
    "\n",
    "# Magnitude = np.norm(a)"
   ]
  },
  {
   "cell_type": "code",
   "execution_count": 29,
   "id": "794165af-7cd6-4805-b5cf-f69ce3d6bdbf",
   "metadata": {},
   "outputs": [],
   "source": [
    "# Vector Projection:\n",
    "# A vector projection of a vector a onto another vector b is the orthogonal projection of a onto b."
   ]
  },
  {
   "cell_type": "code",
   "execution_count": null,
   "id": "39e830ed-2035-4150-bab4-a7a30353f902",
   "metadata": {},
   "outputs": [],
   "source": []
  }
 ],
 "metadata": {
  "kernelspec": {
   "display_name": "Python 3 (ipykernel)",
   "language": "python",
   "name": "python3"
  },
  "language_info": {
   "codemirror_mode": {
    "name": "ipython",
    "version": 3
   },
   "file_extension": ".py",
   "mimetype": "text/x-python",
   "name": "python",
   "nbconvert_exporter": "python",
   "pygments_lexer": "ipython3",
   "version": "3.8.17"
  }
 },
 "nbformat": 4,
 "nbformat_minor": 5
}
